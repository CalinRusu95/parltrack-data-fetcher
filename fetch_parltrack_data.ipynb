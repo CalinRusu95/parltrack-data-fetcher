{
  "nbformat": 4,
  "nbformat_minor": 0,
  "metadata": {
    "colab": {
      "provenance": [],
      "mount_file_id": "1S4JNyS57LU4PJW1mSv__7SitGdtYHm0l",
      "authorship_tag": "ABX9TyNdQh2AB6LifFe91F2paLBm",
      "include_colab_link": true
    },
    "kernelspec": {
      "name": "python3",
      "display_name": "Python 3"
    },
    "language_info": {
      "name": "python"
    }
  },
  "cells": [
    {
      "cell_type": "markdown",
      "metadata": {
        "id": "view-in-github",
        "colab_type": "text"
      },
      "source": [
        "<a href=\"https://colab.research.google.com/github/CalinRusu95/parltrack-data-fetcher/blob/main/fetch_parltrack_data.ipynb\" target=\"_parent\"><img src=\"https://colab.research.google.com/assets/colab-badge.svg\" alt=\"Open In Colab\"/></a>"
      ]
    },
    {
      "cell_type": "code",
      "source": [
        "# Install required libraries\n",
        "!pip install requests zstandard"
      ],
      "metadata": {
        "colab": {
          "base_uri": "https://localhost:8080/"
        },
        "id": "i3LBGWng0wcK",
        "outputId": "d05b31e9-1314-4c3b-e8da-379b99e91584"
      },
      "execution_count": 1,
      "outputs": [
        {
          "output_type": "stream",
          "name": "stdout",
          "text": [
            "Requirement already satisfied: requests in /usr/local/lib/python3.10/dist-packages (2.32.3)\n",
            "Requirement already satisfied: zstandard in /usr/local/lib/python3.10/dist-packages (0.23.0)\n",
            "Requirement already satisfied: charset-normalizer<4,>=2 in /usr/local/lib/python3.10/dist-packages (from requests) (3.4.0)\n",
            "Requirement already satisfied: idna<4,>=2.5 in /usr/local/lib/python3.10/dist-packages (from requests) (3.10)\n",
            "Requirement already satisfied: urllib3<3,>=1.21.1 in /usr/local/lib/python3.10/dist-packages (from requests) (2.2.3)\n",
            "Requirement already satisfied: certifi>=2017.4.17 in /usr/local/lib/python3.10/dist-packages (from requests) (2024.8.30)\n"
          ]
        }
      ]
    },
    {
      "cell_type": "code",
      "source": [
        "# Import necessary libraries\n",
        "import requests\n",
        "import zstandard as zstd\n",
        "import json\n",
        "import os\n",
        "from bs4 import BeautifulSoup\n",
        "\n",
        "# Local directory for saving files\n",
        "DRIVE_FOLDER_PATH = './drive/MyDrive/EU Tableau/ParltrackData/'  # Local folder\n",
        "os.makedirs(DRIVE_FOLDER_PATH, exist_ok=True)"
      ],
      "metadata": {
        "id": "Gh7Je0ut02Kw"
      },
      "execution_count": 2,
      "outputs": []
    },
    {
      "cell_type": "code",
      "source": [
        "def get_parltrack_files():\n",
        "    \"\"\"\n",
        "    Fetches the list of available files from the Parltrack dumps page.\n",
        "    \"\"\"\n",
        "    try:\n",
        "        print(f\"Fetching available files from {PARLTRACK_DUMPS_URL}...\")\n",
        "        response = requests.get(PARLTRACK_DUMPS_URL)\n",
        "        soup = BeautifulSoup(response.text, 'html.parser')\n",
        "\n",
        "        # Extract all file links ending with .zst\n",
        "        file_links = [\n",
        "            PARLTRACK_DUMPS_URL + link['href']\n",
        "            for link in soup.find_all('a', href=True)\n",
        "            if link['href'].endswith('.zst')\n",
        "        ]\n",
        "        print(f\"Found {len(file_links)} files.\")\n",
        "        return file_links\n",
        "\n",
        "    except Exception as e:\n",
        "        print(f\"Error fetching file list: {str(e)}\")\n",
        "        return []\n",
        "\n",
        "def fetch_and_save_file(file_url):\n",
        "    \"\"\"\n",
        "    Fetches, decompresses, and saves a single file from Parltrack to local storage.\n",
        "    \"\"\"\n",
        "    try:\n",
        "        print(f\"Processing file: {file_url}\")\n",
        "\n",
        "        # Fetch the compressed data\n",
        "        response = requests.get(file_url, stream=True, timeout=60)\n",
        "\n",
        "        # Decompress Zstandard data\n",
        "        dctx = zstd.ZstdDecompressor()\n",
        "        decompressed = dctx.stream_reader(response.raw)\n",
        "\n",
        "        # Parse JSON\n",
        "        data = json.load(decompressed)\n",
        "\n",
        "        # Save JSON file to local storage\n",
        "        file_name = os.path.basename(file_url).replace('.zst', '.json')\n",
        "        file_path = os.path.join(DRIVE_FOLDER_PATH, file_name)\n",
        "        with open(file_path, 'w') as f:\n",
        "            json.dump(data, f)\n",
        "\n",
        "        print(f\"File saved successfully to {file_path}\")\n",
        "    except requests.exceptions.RequestException as req_error:\n",
        "        print(f\"Request error for {file_url}: {req_error}\")\n",
        "    except json.JSONDecodeError as json_error:\n",
        "        print(f\"JSON decode error for {file_url}: {json_error}\")\n",
        "    except Exception as e:\n",
        "        print(f\"Unexpected error for {file_url}: {str(e)}\")\n",
        "\n",
        "def process_all_files():\n",
        "    \"\"\"\n",
        "    Fetches and processes all available data files from Parltrack into local storage.\n",
        "    \"\"\"\n",
        "    file_urls = get_parltrack_files()\n",
        "    for file_url in file_urls:\n",
        "        fetch_and_save_file(file_url)\n",
        "\n",
        "# Define Parltrack dumps URL\n",
        "PARLTRACK_DUMPS_URL = 'https://parltrack.eu/dumps/'\n",
        "\n",
        "# Run the process\n",
        "process_all_files()"
      ],
      "metadata": {
        "colab": {
          "base_uri": "https://localhost:8080/",
          "height": 373
        },
        "id": "YRRx9IB09Kgv",
        "outputId": "587d3091-89ce-410b-83de-1bbe63c69b74"
      },
      "execution_count": 3,
      "outputs": [
        {
          "output_type": "stream",
          "name": "stdout",
          "text": [
            "Fetching available files from https://parltrack.eu/dumps/...\n",
            "Found 8 files.\n",
            "Processing file: https://parltrack.eu/dumps/ep_amendments.json.zst\n"
          ]
        },
        {
          "output_type": "error",
          "ename": "KeyboardInterrupt",
          "evalue": "",
          "traceback": [
            "\u001b[0;31m---------------------------------------------------------------------------\u001b[0m",
            "\u001b[0;31mKeyboardInterrupt\u001b[0m                         Traceback (most recent call last)",
            "\u001b[0;32m<ipython-input-3-139a36573ad8>\u001b[0m in \u001b[0;36m<cell line: 66>\u001b[0;34m()\u001b[0m\n\u001b[1;32m     64\u001b[0m \u001b[0;34m\u001b[0m\u001b[0m\n\u001b[1;32m     65\u001b[0m \u001b[0;31m# Run the process\u001b[0m\u001b[0;34m\u001b[0m\u001b[0;34m\u001b[0m\u001b[0m\n\u001b[0;32m---> 66\u001b[0;31m \u001b[0mprocess_all_files\u001b[0m\u001b[0;34m(\u001b[0m\u001b[0;34m)\u001b[0m\u001b[0;34m\u001b[0m\u001b[0;34m\u001b[0m\u001b[0m\n\u001b[0m",
            "\u001b[0;32m<ipython-input-3-139a36573ad8>\u001b[0m in \u001b[0;36mprocess_all_files\u001b[0;34m()\u001b[0m\n\u001b[1;32m     58\u001b[0m     \u001b[0mfile_urls\u001b[0m \u001b[0;34m=\u001b[0m \u001b[0mget_parltrack_files\u001b[0m\u001b[0;34m(\u001b[0m\u001b[0;34m)\u001b[0m\u001b[0;34m\u001b[0m\u001b[0;34m\u001b[0m\u001b[0m\n\u001b[1;32m     59\u001b[0m     \u001b[0;32mfor\u001b[0m \u001b[0mfile_url\u001b[0m \u001b[0;32min\u001b[0m \u001b[0mfile_urls\u001b[0m\u001b[0;34m:\u001b[0m\u001b[0;34m\u001b[0m\u001b[0;34m\u001b[0m\u001b[0m\n\u001b[0;32m---> 60\u001b[0;31m         \u001b[0mfetch_and_save_file\u001b[0m\u001b[0;34m(\u001b[0m\u001b[0mfile_url\u001b[0m\u001b[0;34m)\u001b[0m\u001b[0;34m\u001b[0m\u001b[0;34m\u001b[0m\u001b[0m\n\u001b[0m\u001b[1;32m     61\u001b[0m \u001b[0;34m\u001b[0m\u001b[0m\n\u001b[1;32m     62\u001b[0m \u001b[0;31m# Define Parltrack dumps URL\u001b[0m\u001b[0;34m\u001b[0m\u001b[0;34m\u001b[0m\u001b[0m\n",
            "\u001b[0;32m<ipython-input-3-139a36573ad8>\u001b[0m in \u001b[0;36mfetch_and_save_file\u001b[0;34m(file_url)\u001b[0m\n\u001b[1;32m     36\u001b[0m \u001b[0;34m\u001b[0m\u001b[0m\n\u001b[1;32m     37\u001b[0m         \u001b[0;31m# Parse JSON\u001b[0m\u001b[0;34m\u001b[0m\u001b[0;34m\u001b[0m\u001b[0m\n\u001b[0;32m---> 38\u001b[0;31m         \u001b[0mdata\u001b[0m \u001b[0;34m=\u001b[0m \u001b[0mjson\u001b[0m\u001b[0;34m.\u001b[0m\u001b[0mload\u001b[0m\u001b[0;34m(\u001b[0m\u001b[0mdecompressed\u001b[0m\u001b[0;34m)\u001b[0m\u001b[0;34m\u001b[0m\u001b[0;34m\u001b[0m\u001b[0m\n\u001b[0m\u001b[1;32m     39\u001b[0m \u001b[0;34m\u001b[0m\u001b[0m\n\u001b[1;32m     40\u001b[0m         \u001b[0;31m# Save JSON file to local storage\u001b[0m\u001b[0;34m\u001b[0m\u001b[0;34m\u001b[0m\u001b[0m\n",
            "\u001b[0;32m/usr/lib/python3.10/json/__init__.py\u001b[0m in \u001b[0;36mload\u001b[0;34m(fp, cls, object_hook, parse_float, parse_int, parse_constant, object_pairs_hook, **kw)\u001b[0m\n\u001b[1;32m    291\u001b[0m     \u001b[0mkwarg\u001b[0m\u001b[0;34m;\u001b[0m \u001b[0motherwise\u001b[0m\u001b[0;31m \u001b[0m\u001b[0;31m`\u001b[0m\u001b[0;31m`\u001b[0m\u001b[0mJSONDecoder\u001b[0m\u001b[0;31m`\u001b[0m\u001b[0;31m`\u001b[0m \u001b[0;32mis\u001b[0m \u001b[0mused\u001b[0m\u001b[0;34m.\u001b[0m\u001b[0;34m\u001b[0m\u001b[0;34m\u001b[0m\u001b[0m\n\u001b[1;32m    292\u001b[0m     \"\"\"\n\u001b[0;32m--> 293\u001b[0;31m     return loads(fp.read(),\n\u001b[0m\u001b[1;32m    294\u001b[0m         \u001b[0mcls\u001b[0m\u001b[0;34m=\u001b[0m\u001b[0mcls\u001b[0m\u001b[0;34m,\u001b[0m \u001b[0mobject_hook\u001b[0m\u001b[0;34m=\u001b[0m\u001b[0mobject_hook\u001b[0m\u001b[0;34m,\u001b[0m\u001b[0;34m\u001b[0m\u001b[0;34m\u001b[0m\u001b[0m\n\u001b[1;32m    295\u001b[0m         \u001b[0mparse_float\u001b[0m\u001b[0;34m=\u001b[0m\u001b[0mparse_float\u001b[0m\u001b[0;34m,\u001b[0m \u001b[0mparse_int\u001b[0m\u001b[0;34m=\u001b[0m\u001b[0mparse_int\u001b[0m\u001b[0;34m,\u001b[0m\u001b[0;34m\u001b[0m\u001b[0;34m\u001b[0m\u001b[0m\n",
            "\u001b[0;32m/usr/lib/python3.10/json/__init__.py\u001b[0m in \u001b[0;36mloads\u001b[0;34m(s, cls, object_hook, parse_float, parse_int, parse_constant, object_pairs_hook, **kw)\u001b[0m\n\u001b[1;32m    339\u001b[0m             raise TypeError(f'the JSON object must be str, bytes or bytearray, '\n\u001b[1;32m    340\u001b[0m                             f'not {s.__class__.__name__}')\n\u001b[0;32m--> 341\u001b[0;31m         \u001b[0ms\u001b[0m \u001b[0;34m=\u001b[0m \u001b[0ms\u001b[0m\u001b[0;34m.\u001b[0m\u001b[0mdecode\u001b[0m\u001b[0;34m(\u001b[0m\u001b[0mdetect_encoding\u001b[0m\u001b[0;34m(\u001b[0m\u001b[0ms\u001b[0m\u001b[0;34m)\u001b[0m\u001b[0;34m,\u001b[0m \u001b[0;34m'surrogatepass'\u001b[0m\u001b[0;34m)\u001b[0m\u001b[0;34m\u001b[0m\u001b[0;34m\u001b[0m\u001b[0m\n\u001b[0m\u001b[1;32m    342\u001b[0m \u001b[0;34m\u001b[0m\u001b[0m\n\u001b[1;32m    343\u001b[0m     if (cls is None and object_hook is None and\n",
            "\u001b[0;31mKeyboardInterrupt\u001b[0m: "
          ]
        }
      ]
    }
  ]
}