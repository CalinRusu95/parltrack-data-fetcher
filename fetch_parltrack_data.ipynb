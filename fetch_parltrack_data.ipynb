{
  "nbformat": 4,
  "nbformat_minor": 0,
  "metadata": {
    "colab": {
      "provenance": [],
      "mount_file_id": "1S4JNyS57LU4PJW1mSv__7SitGdtYHm0l",
      "authorship_tag": "ABX9TyNdlSJLifhx5pwWz0ay7GlT",
      "include_colab_link": true
    },
    "kernelspec": {
      "name": "python3",
      "display_name": "Python 3"
    },
    "language_info": {
      "name": "python"
    }
  },
  "cells": [
    {
      "cell_type": "markdown",
      "metadata": {
        "id": "view-in-github",
        "colab_type": "text"
      },
      "source": [
        "<a href=\"https://colab.research.google.com/github/CalinRusu95/parltrack-data-fetcher/blob/main/fetch_parltrack_data.ipynb\" target=\"_parent\"><img src=\"https://colab.research.google.com/assets/colab-badge.svg\" alt=\"Open In Colab\"/></a>"
      ]
    },
    {
      "cell_type": "code",
      "source": [
        "# Install required libraries\n",
        "!pip install requests zstandard"
      ],
      "metadata": {
        "colab": {
          "base_uri": "https://localhost:8080/"
        },
        "id": "i3LBGWng0wcK",
        "outputId": "ca6f87a0-0478-4e0d-d721-91ed55d7de04"
      },
      "execution_count": 1,
      "outputs": [
        {
          "output_type": "stream",
          "name": "stdout",
          "text": [
            "Requirement already satisfied: requests in /usr/local/lib/python3.10/dist-packages (2.32.3)\n",
            "Requirement already satisfied: zstandard in /usr/local/lib/python3.10/dist-packages (0.23.0)\n",
            "Requirement already satisfied: charset-normalizer<4,>=2 in /usr/local/lib/python3.10/dist-packages (from requests) (3.4.0)\n",
            "Requirement already satisfied: idna<4,>=2.5 in /usr/local/lib/python3.10/dist-packages (from requests) (3.10)\n",
            "Requirement already satisfied: urllib3<3,>=1.21.1 in /usr/local/lib/python3.10/dist-packages (from requests) (2.2.3)\n",
            "Requirement already satisfied: certifi>=2017.4.17 in /usr/local/lib/python3.10/dist-packages (from requests) (2024.8.30)\n"
          ]
        }
      ]
    },
    {
      "cell_type": "code",
      "source": [
        "import requests\n",
        "import zstandard as zstd\n",
        "import json\n",
        "import os\n",
        "from google.oauth2.service_account import Credentials\n",
        "from googleapiclient.discovery import build\n",
        "from bs4 import BeautifulSoup"
      ],
      "metadata": {
        "id": "Gh7Je0ut02Kw"
      },
      "execution_count": 2,
      "outputs": []
    },
    {
      "cell_type": "code",
      "source": [
        "# Google Drive folder ID where files will be uploaded\n",
        "DRIVE_FOLDER_ID = \"16QmR40u_BF8K_DCSttSEOxYidzsuEkTU\"  # Replace with your Google Drive folder ID\n",
        "\n",
        "# Parltrack dumps URL\n",
        "PARLTRACK_DUMPS_URL = \"https://parltrack.eu/dumps/\"\n",
        "\n",
        "# Write the secret to a temporary credentials.json file\n",
        "CREDENTIALS_PATH = \"/tmp/credentials.json\""
      ],
      "metadata": {
        "colab": {
          "base_uri": "https://localhost:8080/",
          "height": 176
        },
        "id": "oREgKgBVCelg",
        "outputId": "c87e1719-94a9-44b9-dde5-18755b603196"
      },
      "execution_count": 5,
      "outputs": [
        {
          "output_type": "error",
          "ename": "NameError",
          "evalue": "name 'secret' is not defined",
          "traceback": [
            "\u001b[0;31m---------------------------------------------------------------------------\u001b[0m",
            "\u001b[0;31mNameError\u001b[0m                                 Traceback (most recent call last)",
            "\u001b[0;32m<ipython-input-5-7fa581028f50>\u001b[0m in \u001b[0;36m<cell line: 14>\u001b[0;34m()\u001b[0m\n\u001b[1;32m     12\u001b[0m         \u001b[0mf\u001b[0m\u001b[0;34m.\u001b[0m\u001b[0mwrite\u001b[0m\u001b[0;34m(\u001b[0m\u001b[0msecret\u001b[0m\u001b[0;34m)\u001b[0m\u001b[0;34m\u001b[0m\u001b[0;34m\u001b[0m\u001b[0m\n\u001b[1;32m     13\u001b[0m \u001b[0;34m\u001b[0m\u001b[0m\n\u001b[0;32m---> 14\u001b[0;31m \u001b[0mwrite_credentials\u001b[0m\u001b[0;34m(\u001b[0m\u001b[0msecret\u001b[0m\u001b[0;34m)\u001b[0m\u001b[0;34m\u001b[0m\u001b[0;34m\u001b[0m\u001b[0m\n\u001b[0m",
            "\u001b[0;31mNameError\u001b[0m: name 'secret' is not defined"
          ]
        }
      ]
    },
    {
      "cell_type": "code",
      "source": [],
      "metadata": {
        "colab": {
          "base_uri": "https://localhost:8080/"
        },
        "id": "YRRx9IB09Kgv",
        "outputId": "c99c10a5-0c0e-4baf-cfdc-6742920bcb72"
      },
      "execution_count": null,
      "outputs": [
        {
          "output_type": "stream",
          "name": "stdout",
          "text": [
            "Fetching available files from https://parltrack.eu/dumps/...\n",
            "Found 8 files.\n",
            "Processing file: https://parltrack.eu/dumps/ep_amendments.json.zst\n"
          ]
        }
      ]
    },
    {
      "cell_type": "code",
      "source": [
        "def write_credentials(secret):\n",
        "    with open(CREDENTIALS_PATH, \"w\") as f:\n",
        "        f.write(secret)\n",
        "\n",
        "# Authenticate with Google Drive API\n",
        "def authenticate_google_drive():\n",
        "    credentials = Credentials.from_service_account_file(\n",
        "        CREDENTIALS_PATH,\n",
        "        scopes=[\"https://www.googleapis.com/auth/drive\"]\n",
        "    )\n",
        "    service = build(\"drive\", \"v3\", credentials=credentials)\n",
        "    return service\n",
        "\n",
        "# Upload file to Google Drive\n",
        "def upload_to_drive(service, file_path, file_name):\n",
        "    file_metadata = {\n",
        "        \"name\": file_name,\n",
        "        \"parents\": [DRIVE_FOLDER_ID]\n",
        "    }\n",
        "    media = MediaFileUpload(file_path, resumable=True)\n",
        "    uploaded_file = service.files().create(body=file_metadata, media_body=media, fields=\"id\").execute()\n",
        "    print(f\"Uploaded file ID: {uploaded_file.get('id')}\")\n",
        "\n",
        "# Fetch, decompress, and upload files\n",
        "def fetch_and_upload_files():\n",
        "    try:\n",
        "        # Fetch the list of available files\n",
        "        response = requests.get(PARLTRACK_DUMPS_URL)\n",
        "        response.raise_for_status()\n",
        "        soup = BeautifulSoup(response.text, \"html.parser\")\n",
        "\n",
        "        # Extract all .zst file URLs\n",
        "        file_urls = [\n",
        "            PARLTRACK_DUMPS_URL + link[\"href\"]\n",
        "            for link in soup.find_all(\"a\", href=True)\n",
        "            if link[\"href\"].endswith(\".zst\")\n",
        "        ]\n",
        "\n",
        "        # Authenticate with Google Drive\n",
        "        drive_service = authenticate_google_drive()\n",
        "\n",
        "        # Process each file\n",
        "        for file_url in file_urls:\n",
        "            print(f\"Processing file: {file_url}\")\n",
        "\n",
        "            # Fetch the compressed file\n",
        "            response = requests.get(file_url, stream=True)\n",
        "            response.raise_for_status()\n",
        "\n",
        "            # Decompress Zstandard data\n",
        "            dctx = zstd.ZstdDecompressor()\n",
        "            decompressed = dctx.stream_reader(response.raw)\n",
        "\n",
        "            # Parse JSON\n",
        "            data = json.load(decompressed)\n",
        "\n",
        "            # Save the file locally\n",
        "            file_name = os.path.basename(file_url).replace(\".zst\", \".json\")\n",
        "            file_path = os.path.join(\"/tmp\", file_name)\n",
        "            with open(file_path, \"w\") as f:\n",
        "                json.dump(data, f)\n",
        "\n",
        "            # Upload the file to Google Drive\n",
        "            upload_to_drive(drive_service, file_path, file_name)\n",
        "\n",
        "            # Clean up the local file\n",
        "            os.remove(file_path)\n",
        "            print(f\"Finished processing: {file_name}\")\n",
        "\n",
        "    except Exception as e:\n",
        "        print(f\"Error: {e}\")\n",
        "\n",
        "# Run the process\n",
        "if __name__ == \"__main__\":\n",
        "    # Read the secret from an environment variable (provided by GitHub Actions)\n",
        "    secret = os.getenv(\"GOOGLE_CREDENTIALS\")\n",
        "    if not secret:\n",
        "        raise ValueError(\"GOOGLE_CREDENTIALS secret is missing!\")\n",
        "\n",
        "    # Write the secret to a temporary file\n",
        "    write_credentials(secret)\n",
        "\n",
        "    # Fetch and upload files\n",
        "    fetch_and_upload_files()\n",
        "\n",
        "    # Clean up credentials\n",
        "    os.remove(CREDENTIALS_PATH)"
      ],
      "metadata": {
        "id": "PDw0tCL-DCLN"
      },
      "execution_count": null,
      "outputs": []
    }
  ]
}