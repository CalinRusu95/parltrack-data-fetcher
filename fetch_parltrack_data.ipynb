{
  "nbformat": 4,
  "nbformat_minor": 0,
  "metadata": {
    "colab": {
      "provenance": [],
      "mount_file_id": "1S4JNyS57LU4PJW1mSv__7SitGdtYHm0l",
      "authorship_tag": "ABX9TyN0kaFcCYqJaomK9NVqlVzv",
      "include_colab_link": true
    },
    "kernelspec": {
      "name": "python3",
      "display_name": "Python 3"
    },
    "language_info": {
      "name": "python"
    }
  },
  "cells": [
    {
      "cell_type": "markdown",
      "metadata": {
        "id": "view-in-github",
        "colab_type": "text"
      },
      "source": [
        "<a href=\"https://colab.research.google.com/github/CalinRusu95/parltrack-data-fetcher/blob/main/fetch_parltrack_data.ipynb\" target=\"_parent\"><img src=\"https://colab.research.google.com/assets/colab-badge.svg\" alt=\"Open In Colab\"/></a>"
      ]
    },
    {
      "cell_type": "code",
      "source": [
        "# Install required libraries\n",
        "!pip install requests zstandard"
      ],
      "metadata": {
        "colab": {
          "base_uri": "https://localhost:8080/"
        },
        "id": "i3LBGWng0wcK",
        "outputId": "d05b31e9-1314-4c3b-e8da-379b99e91584"
      },
      "execution_count": 1,
      "outputs": [
        {
          "output_type": "stream",
          "name": "stdout",
          "text": [
            "Requirement already satisfied: requests in /usr/local/lib/python3.10/dist-packages (2.32.3)\n",
            "Requirement already satisfied: zstandard in /usr/local/lib/python3.10/dist-packages (0.23.0)\n",
            "Requirement already satisfied: charset-normalizer<4,>=2 in /usr/local/lib/python3.10/dist-packages (from requests) (3.4.0)\n",
            "Requirement already satisfied: idna<4,>=2.5 in /usr/local/lib/python3.10/dist-packages (from requests) (3.10)\n",
            "Requirement already satisfied: urllib3<3,>=1.21.1 in /usr/local/lib/python3.10/dist-packages (from requests) (2.2.3)\n",
            "Requirement already satisfied: certifi>=2017.4.17 in /usr/local/lib/python3.10/dist-packages (from requests) (2024.8.30)\n"
          ]
        }
      ]
    },
    {
      "cell_type": "code",
      "source": [
        "# Import necessary libraries\n",
        "import requests\n",
        "import zstandard as zstd\n",
        "import json\n",
        "import os\n",
        "from bs4 import BeautifulSoup\n",
        "from google.colab import drive\n",
        "\n",
        "# Mount Google Drive\n",
        "drive.mount('/content/drive')"
      ],
      "metadata": {
        "colab": {
          "base_uri": "https://localhost:8080/"
        },
        "id": "Gh7Je0ut02Kw",
        "outputId": "1de9a200-c056-4bc1-d7af-32d7c6480b8f"
      },
      "execution_count": 2,
      "outputs": [
        {
          "output_type": "stream",
          "name": "stdout",
          "text": [
            "Drive already mounted at /content/drive; to attempt to forcibly remount, call drive.mount(\"/content/drive\", force_remount=True).\n"
          ]
        }
      ]
    },
    {
      "cell_type": "code",
      "source": [
        "# Define Parltrack dumps URL and Drive folder path\n",
        "PARLTRACK_DUMPS_URL = 'https://parltrack.eu/dumps/'\n",
        "DRIVE_FOLDER_PATH = '/content/drive/My Drive/EU Tableau/ParltrackData/'\n",
        "os.makedirs(DRIVE_FOLDER_PATH, exist_ok=True)"
      ],
      "metadata": {
        "id": "CSdCBhsu047M"
      },
      "execution_count": 3,
      "outputs": []
    },
    {
      "cell_type": "code",
      "source": [
        "def get_parltrack_files():\n",
        "    \"\"\"\n",
        "    Fetches the list of available files from the Parltrack dumps page.\n",
        "    \"\"\"\n",
        "    try:\n",
        "        print(f\"Fetching available files from {PARLTRACK_DUMPS_URL}...\")\n",
        "        response = requests.get(PARLTRACK_DUMPS_URL)\n",
        "        soup = BeautifulSoup(response.text, 'html.parser')\n",
        "\n",
        "        # Extract all file links ending with .zst\n",
        "        file_links = [\n",
        "            PARLTRACK_DUMPS_URL + link['href']\n",
        "            for link in soup.find_all('a', href=True)\n",
        "            if link['href'].endswith('.zst')\n",
        "        ]\n",
        "        print(f\"Found {len(file_links)} files.\")\n",
        "        return file_links\n",
        "\n",
        "    except Exception as e:\n",
        "        print(f\"Error fetching file list: {str(e)}\")\n",
        "        return []\n",
        "\n",
        "def fetch_and_save_file(file_url):\n",
        "    \"\"\"\n",
        "    Fetches, decompresses, and saves a single file from Parltrack to Google Drive.\n",
        "    \"\"\"\n",
        "    try:\n",
        "        print(f\"Processing file: {file_url}\")\n",
        "\n",
        "        # Fetch the compressed data\n",
        "        response = requests.get(file_url, stream=True, timeout=60)\n",
        "\n",
        "        # Decompress Zstandard data\n",
        "        dctx = zstd.ZstdDecompressor()\n",
        "        decompressed = dctx.stream_reader(response.raw)\n",
        "\n",
        "        # Parse JSON\n",
        "        data = json.load(decompressed)\n",
        "\n",
        "        # Save JSON file to Google Drive\n",
        "        file_name = os.path.basename(file_url).replace('.zst', '.json')\n",
        "        file_path = os.path.join(DRIVE_FOLDER_PATH, file_name)\n",
        "        with open(file_path, 'w') as f:\n",
        "            json.dump(data, f)\n",
        "\n",
        "        print(f\"File saved successfully to {file_path}\")\n",
        "    except requests.exceptions.RequestException as req_error:\n",
        "        print(f\"Request error for {file_url}: {req_error}\")\n",
        "    except json.JSONDecodeError as json_error:\n",
        "        print(f\"JSON decode error for {file_url}: {json_error}\")\n",
        "    except Exception as e:\n",
        "        print(f\"Unexpected error for {file_url}: {str(e)}\")\n",
        "\n",
        "def process_all_files():\n",
        "    \"\"\"\n",
        "    Fetches and processes all available data files from Parltrack into Google Drive.\n",
        "    \"\"\"\n",
        "    file_urls = get_parltrack_files()\n",
        "    for file_url in file_urls:\n",
        "        fetch_and_save_file(file_url)\n",
        "\n",
        "# Run the process\n",
        "process_all_files()"
      ],
      "metadata": {
        "colab": {
          "base_uri": "https://localhost:8080/"
        },
        "id": "OKYggElm1LF5",
        "outputId": "aafaab71-f99d-4665-e0a4-692e1c779b54"
      },
      "execution_count": null,
      "outputs": [
        {
          "output_type": "stream",
          "name": "stdout",
          "text": [
            "Fetching available files from https://parltrack.eu/dumps/...\n",
            "Found 8 files.\n",
            "Processing file: https://parltrack.eu/dumps/ep_amendments.json.zst\n"
          ]
        }
      ]
    }
  ]
}